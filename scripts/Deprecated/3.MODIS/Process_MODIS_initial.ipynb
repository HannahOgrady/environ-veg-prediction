{
 "cells": [
  {
   "cell_type": "markdown",
   "id": "995b8e05-d82b-4ce5-a2f6-821416dd1686",
   "metadata": {},
   "source": [
    "# Formatting MODIS raw .hdf files\n",
    "\n",
    "This script loads in the .hdf files with MODIS land cover type data downloaded from NASA EarthData repository on 24 October 2024. I decided to use Python because the method for processing the data in Python is much more straightforward than for R. One the data is in array format, I save it and transfer these formatted data to R for the rest of the analysis using the pickle package."
   ]
  },
  {
   "cell_type": "markdown",
   "id": "70c35767-75ee-42e2-982b-19bf244ba720",
   "metadata": {},
   "source": [
    "First, I am importing the packages that are necessary for this pipeline, notable the xarray package is what processes the .hdf file format."
   ]
  },
  {
   "cell_type": "code",
   "execution_count": 1,
   "id": "d964846b-90bb-450d-80f4-8767dd40bd21",
   "metadata": {
    "tags": []
   },
   "outputs": [],
   "source": [
    "# Import packages\n",
    "import os\n",
    "import warnings\n",
    "from glob import glob\n",
    "import pickle\n",
    "\n",
    "import numpy as np\n",
    "import xarray as xr\n",
    "import rioxarray as rxr"
   ]
  },
  {
   "cell_type": "markdown",
   "id": "bad226e9-0edd-4733-8493-1e4998a1803d",
   "metadata": {},
   "source": [
    "Next, I am defining the datasets that are necessary to extract from each .hdf file. These are as follows:\n",
    "\n",
    "* LC_Type1: annual IGBP classification\n",
    "* LC_Type2: annual UMD classification\n",
    "* LC_Type3: annual LAI classification\n",
    "* QC: Product quality flags\n",
    "* LW: Binary land (class 2)/water (class 1) mask derived from MOD44W\n",
    "\n",
    "The follow datasets are dropped:\n",
    "\n",
    "* LC_Type4: annual BGC classification, because it does not include savanna or grassland\n",
    "* LC_Type5: annual PFT classification, because it does not incldue savanna or grassland\n",
    "* LC_Prop1: LCCS1 land cover layer, because it does not include savanna or cropland (so converting plant types to ecosystems would be impossible if we don't know what corresponds to cropland)\n",
    "* LC_Prop2: LCCS2 land use layer, because it does not include savanna or prairie\n",
    "* LC_Prop3: LCCS3 surface hydrology layer, because it does not include savanna\n",
    "* LC_Prop1_Ass: LCCS1 land cover layer confidence, because I'm not using LC_Prop1\n",
    "* LC_Prop2_Ass: LCCS2 land use layer confidence, because I'm not using LC_Prop2\n",
    "* LC_Prop3_Ass: LCCS3 surface hydrology layer confidence, because I'm not using LC_Prop3"
   ]
  },
  {
   "cell_type": "code",
   "execution_count": 2,
   "id": "06a696ce-40ea-43b4-ae24-482f7933b95c",
   "metadata": {},
   "outputs": [],
   "source": [
    "# Names of datasets we want to keep from the data\n",
    "desired_datasets = ['LC_Type1',\n",
    "                    'LC_Type2',\n",
    "                    'LC_Type3',\n",
    "                    'QC',\n",
    "                    'LW']"
   ]
  },
  {
   "cell_type": "markdown",
   "id": "954e855c-8200-482f-8130-4f9d8dff755e",
   "metadata": {},
   "source": [
    "Now, I'm defining a function that we can loop over for formatting the data, including loading in the desired datasets, reprojecting the data, and converting it to an array format."
   ]
  },
  {
   "cell_type": "code",
   "execution_count": 3,
   "id": "ce473f23-317d-44ca-819e-6d42f54c41d1",
   "metadata": {},
   "outputs": [],
   "source": [
    "# Function for formatting data\n",
    "def data_func(i):\n",
    "    src = rxr.open_rasterio(file_list[i],\n",
    "                            masked = True,\n",
    "                            variable = desired_datasets).squeeze()\n",
    "    src_proj = src.rio.reproject('EPSG:3175')\n",
    "    src_array = xr.Dataset.to_array(src_proj)\n",
    "    return(src_array)"
   ]
  },
  {
   "cell_type": "markdown",
   "id": "cebf8f69-78ba-41a4-9c1d-f5615bc4418a",
   "metadata": {},
   "source": [
    "## Cell 1: h10v04"
   ]
  },
  {
   "cell_type": "markdown",
   "id": "9f26af56-b1e6-4385-a309-0bff4996719a",
   "metadata": {},
   "source": [
    "Because each cell has different coordinates, we need to process the data for each cell separately. Therefore, I previously divided all the downloaded datasets into five cell subdirectories manually. That is, I used the download script included in the MODIS/ directory to dump all files in the MODIS directory, then I moved the files into different subdirectories based on their horizontal and vertical tile numbers.\n",
    "\n",
    "Here, we start with cell h10v04."
   ]
  },
  {
   "cell_type": "code",
   "execution_count": 5,
   "id": "7622e01f-45d8-48f3-856f-5bf1c6a834d8",
   "metadata": {},
   "outputs": [
    {
     "data": {
      "text/plain": [
       "array([ 0,  1,  2,  3,  4,  5,  6,  7,  8,  9, 10, 11, 12, 13, 14, 15, 16,\n",
       "       17, 18, 19, 20, 21, 22])"
      ]
     },
     "execution_count": 5,
     "metadata": {},
     "output_type": "execute_result"
    }
   ],
   "source": [
    "# Defining directory and data files for first cell\n",
    "data_dir = '/Volumes/FileBackup/SDM_bigdata/MODIS/h10v04'\n",
    "# use pathlib.path\n",
    "file_list = glob(os.path.join(data_dir, '*.hdf'))\n",
    "\n",
    "# Vector of file index for this cell\n",
    "ii = np.arange(np.shape(file_list)[0])\n",
    "ii"
   ]
  },
  {
   "cell_type": "markdown",
   "id": "3ead6321-692f-442b-ab35-858d74b5fa4a",
   "metadata": {},
   "source": [
    "Now, I use the function I defined above to loop over all the individual .hdf files for each year's data product in the same cell."
   ]
  },
  {
   "cell_type": "code",
   "execution_count": 5,
   "id": "02f4e0d8-1b3c-4a8b-83cb-28b343e49970",
   "metadata": {},
   "outputs": [],
   "source": [
    "# Loop over all files in this cell and put into list format\n",
    "list_h10v04 = [data_func(i) for i in ii]"
   ]
  },
  {
   "cell_type": "markdown",
   "id": "fe4ffd5d-87b4-4d7b-b3ca-79fed3d84416",
   "metadata": {},
   "source": [
    "Since all the files have the same format, we can convert it to an array, which allows us to manipulate it in R."
   ]
  },
  {
   "cell_type": "code",
   "execution_count": 6,
   "id": "d91dbb16-56dc-46f0-9f4d-16f13501023d",
   "metadata": {},
   "outputs": [],
   "source": [
    "# Convert to numpy array\n",
    "array_h10v04 = np.array(list_h10v04)"
   ]
  },
  {
   "cell_type": "markdown",
   "id": "6f3f03b1-4bf8-415c-9869-42c055ca6969",
   "metadata": {},
   "source": [
    "Here, I'm checking the dimensions to make sure it makes sense."
   ]
  },
  {
   "cell_type": "code",
   "execution_count": 7,
   "id": "0afc92ab-240a-48b2-85ab-2a09f8a59bcf",
   "metadata": {},
   "outputs": [
    {
     "data": {
      "text/plain": [
       "(23, 5, 2201, 2584)"
      ]
     },
     "execution_count": 7,
     "metadata": {},
     "output_type": "execute_result"
    }
   ],
   "source": [
    "# Check shape\n",
    "# 23 = years\n",
    "# 5 = datasets\n",
    "# 2201 x 2584 = coordinates\n",
    "np.shape(array_h10v04)"
   ]
  },
  {
   "cell_type": "markdown",
   "id": "7dd7f4cb-9a97-4810-9f52-352b3db3dda7",
   "metadata": {},
   "source": [
    "Now, I'm extracting the coordinates for two samples of the files. I make sure that they're identical before moving on."
   ]
  },
  {
   "cell_type": "code",
   "execution_count": 9,
   "id": "35afaaf0-be5b-4e40-b8df-cdd09551bca9",
   "metadata": {},
   "outputs": [],
   "source": [
    "# Extract latitude and longitude\n",
    "samp1 = rxr.open_rasterio(file_list[0], masked = True, variable = desired_datasets).squeeze()\n",
    "samp2 = rxr.open_rasterio(file_list[5], masked = True, variable = desired_datasets).squeeze()\n",
    "\n",
    "samp1_reprojected = samp1.rio.reproject('EPSG:3175')\n",
    "samp2_reprojected = samp2.rio.reproject('EPSG:3175')\n",
    "\n",
    "lat_1 = samp1_reprojected['y']\n",
    "lat_2 = samp2_reprojected['y']\n",
    "lon_1 = samp1_reprojected['x']\n",
    "lon_2 = samp2_reprojected['x']"
   ]
  },
  {
   "cell_type": "code",
   "execution_count": 10,
   "id": "a1d6d321-6177-4a46-a566-4d76dca8ff7c",
   "metadata": {},
   "outputs": [
    {
     "data": {
      "text/html": [
       "<div><svg style=\"position: absolute; width: 0; height: 0; overflow: hidden\">\n",
       "<defs>\n",
       "<symbol id=\"icon-database\" viewBox=\"0 0 32 32\">\n",
       "<path d=\"M16 0c-8.837 0-16 2.239-16 5v4c0 2.761 7.163 5 16 5s16-2.239 16-5v-4c0-2.761-7.163-5-16-5z\"></path>\n",
       "<path d=\"M16 17c-8.837 0-16-2.239-16-5v6c0 2.761 7.163 5 16 5s16-2.239 16-5v-6c0 2.761-7.163 5-16 5z\"></path>\n",
       "<path d=\"M16 26c-8.837 0-16-2.239-16-5v6c0 2.761 7.163 5 16 5s16-2.239 16-5v-6c0 2.761-7.163 5-16 5z\"></path>\n",
       "</symbol>\n",
       "<symbol id=\"icon-file-text2\" viewBox=\"0 0 32 32\">\n",
       "<path d=\"M28.681 7.159c-0.694-0.947-1.662-2.053-2.724-3.116s-2.169-2.030-3.116-2.724c-1.612-1.182-2.393-1.319-2.841-1.319h-15.5c-1.378 0-2.5 1.121-2.5 2.5v27c0 1.378 1.122 2.5 2.5 2.5h23c1.378 0 2.5-1.122 2.5-2.5v-19.5c0-0.448-0.137-1.23-1.319-2.841zM24.543 5.457c0.959 0.959 1.712 1.825 2.268 2.543h-4.811v-4.811c0.718 0.556 1.584 1.309 2.543 2.268zM28 29.5c0 0.271-0.229 0.5-0.5 0.5h-23c-0.271 0-0.5-0.229-0.5-0.5v-27c0-0.271 0.229-0.5 0.5-0.5 0 0 15.499-0 15.5 0v7c0 0.552 0.448 1 1 1h7v19.5z\"></path>\n",
       "<path d=\"M23 26h-14c-0.552 0-1-0.448-1-1s0.448-1 1-1h14c0.552 0 1 0.448 1 1s-0.448 1-1 1z\"></path>\n",
       "<path d=\"M23 22h-14c-0.552 0-1-0.448-1-1s0.448-1 1-1h14c0.552 0 1 0.448 1 1s-0.448 1-1 1z\"></path>\n",
       "<path d=\"M23 18h-14c-0.552 0-1-0.448-1-1s0.448-1 1-1h14c0.552 0 1 0.448 1 1s-0.448 1-1 1z\"></path>\n",
       "</symbol>\n",
       "</defs>\n",
       "</svg>\n",
       "<style>/* CSS stylesheet for displaying xarray objects in jupyterlab.\n",
       " *\n",
       " */\n",
       "\n",
       ":root {\n",
       "  --xr-font-color0: var(--jp-content-font-color0, rgba(0, 0, 0, 1));\n",
       "  --xr-font-color2: var(--jp-content-font-color2, rgba(0, 0, 0, 0.54));\n",
       "  --xr-font-color3: var(--jp-content-font-color3, rgba(0, 0, 0, 0.38));\n",
       "  --xr-border-color: var(--jp-border-color2, #e0e0e0);\n",
       "  --xr-disabled-color: var(--jp-layout-color3, #bdbdbd);\n",
       "  --xr-background-color: var(--jp-layout-color0, white);\n",
       "  --xr-background-color-row-even: var(--jp-layout-color1, white);\n",
       "  --xr-background-color-row-odd: var(--jp-layout-color2, #eeeeee);\n",
       "}\n",
       "\n",
       "html[theme=dark],\n",
       "body[data-theme=dark],\n",
       "body.vscode-dark {\n",
       "  --xr-font-color0: rgba(255, 255, 255, 1);\n",
       "  --xr-font-color2: rgba(255, 255, 255, 0.54);\n",
       "  --xr-font-color3: rgba(255, 255, 255, 0.38);\n",
       "  --xr-border-color: #1F1F1F;\n",
       "  --xr-disabled-color: #515151;\n",
       "  --xr-background-color: #111111;\n",
       "  --xr-background-color-row-even: #111111;\n",
       "  --xr-background-color-row-odd: #313131;\n",
       "}\n",
       "\n",
       ".xr-wrap {\n",
       "  display: block !important;\n",
       "  min-width: 300px;\n",
       "  max-width: 700px;\n",
       "}\n",
       "\n",
       ".xr-text-repr-fallback {\n",
       "  /* fallback to plain text repr when CSS is not injected (untrusted notebook) */\n",
       "  display: none;\n",
       "}\n",
       "\n",
       ".xr-header {\n",
       "  padding-top: 6px;\n",
       "  padding-bottom: 6px;\n",
       "  margin-bottom: 4px;\n",
       "  border-bottom: solid 1px var(--xr-border-color);\n",
       "}\n",
       "\n",
       ".xr-header > div,\n",
       ".xr-header > ul {\n",
       "  display: inline;\n",
       "  margin-top: 0;\n",
       "  margin-bottom: 0;\n",
       "}\n",
       "\n",
       ".xr-obj-type,\n",
       ".xr-array-name {\n",
       "  margin-left: 2px;\n",
       "  margin-right: 10px;\n",
       "}\n",
       "\n",
       ".xr-obj-type {\n",
       "  color: var(--xr-font-color2);\n",
       "}\n",
       "\n",
       ".xr-sections {\n",
       "  padding-left: 0 !important;\n",
       "  display: grid;\n",
       "  grid-template-columns: 150px auto auto 1fr 20px 20px;\n",
       "}\n",
       "\n",
       ".xr-section-item {\n",
       "  display: contents;\n",
       "}\n",
       "\n",
       ".xr-section-item input {\n",
       "  display: none;\n",
       "}\n",
       "\n",
       ".xr-section-item input + label {\n",
       "  color: var(--xr-disabled-color);\n",
       "}\n",
       "\n",
       ".xr-section-item input:enabled + label {\n",
       "  cursor: pointer;\n",
       "  color: var(--xr-font-color2);\n",
       "}\n",
       "\n",
       ".xr-section-item input:enabled + label:hover {\n",
       "  color: var(--xr-font-color0);\n",
       "}\n",
       "\n",
       ".xr-section-summary {\n",
       "  grid-column: 1;\n",
       "  color: var(--xr-font-color2);\n",
       "  font-weight: 500;\n",
       "}\n",
       "\n",
       ".xr-section-summary > span {\n",
       "  display: inline-block;\n",
       "  padding-left: 0.5em;\n",
       "}\n",
       "\n",
       ".xr-section-summary-in:disabled + label {\n",
       "  color: var(--xr-font-color2);\n",
       "}\n",
       "\n",
       ".xr-section-summary-in + label:before {\n",
       "  display: inline-block;\n",
       "  content: '►';\n",
       "  font-size: 11px;\n",
       "  width: 15px;\n",
       "  text-align: center;\n",
       "}\n",
       "\n",
       ".xr-section-summary-in:disabled + label:before {\n",
       "  color: var(--xr-disabled-color);\n",
       "}\n",
       "\n",
       ".xr-section-summary-in:checked + label:before {\n",
       "  content: '▼';\n",
       "}\n",
       "\n",
       ".xr-section-summary-in:checked + label > span {\n",
       "  display: none;\n",
       "}\n",
       "\n",
       ".xr-section-summary,\n",
       ".xr-section-inline-details {\n",
       "  padding-top: 4px;\n",
       "  padding-bottom: 4px;\n",
       "}\n",
       "\n",
       ".xr-section-inline-details {\n",
       "  grid-column: 2 / -1;\n",
       "}\n",
       "\n",
       ".xr-section-details {\n",
       "  display: none;\n",
       "  grid-column: 1 / -1;\n",
       "  margin-bottom: 5px;\n",
       "}\n",
       "\n",
       ".xr-section-summary-in:checked ~ .xr-section-details {\n",
       "  display: contents;\n",
       "}\n",
       "\n",
       ".xr-array-wrap {\n",
       "  grid-column: 1 / -1;\n",
       "  display: grid;\n",
       "  grid-template-columns: 20px auto;\n",
       "}\n",
       "\n",
       ".xr-array-wrap > label {\n",
       "  grid-column: 1;\n",
       "  vertical-align: top;\n",
       "}\n",
       "\n",
       ".xr-preview {\n",
       "  color: var(--xr-font-color3);\n",
       "}\n",
       "\n",
       ".xr-array-preview,\n",
       ".xr-array-data {\n",
       "  padding: 0 5px !important;\n",
       "  grid-column: 2;\n",
       "}\n",
       "\n",
       ".xr-array-data,\n",
       ".xr-array-in:checked ~ .xr-array-preview {\n",
       "  display: none;\n",
       "}\n",
       "\n",
       ".xr-array-in:checked ~ .xr-array-data,\n",
       ".xr-array-preview {\n",
       "  display: inline-block;\n",
       "}\n",
       "\n",
       ".xr-dim-list {\n",
       "  display: inline-block !important;\n",
       "  list-style: none;\n",
       "  padding: 0 !important;\n",
       "  margin: 0;\n",
       "}\n",
       "\n",
       ".xr-dim-list li {\n",
       "  display: inline-block;\n",
       "  padding: 0;\n",
       "  margin: 0;\n",
       "}\n",
       "\n",
       ".xr-dim-list:before {\n",
       "  content: '(';\n",
       "}\n",
       "\n",
       ".xr-dim-list:after {\n",
       "  content: ')';\n",
       "}\n",
       "\n",
       ".xr-dim-list li:not(:last-child):after {\n",
       "  content: ',';\n",
       "  padding-right: 5px;\n",
       "}\n",
       "\n",
       ".xr-has-index {\n",
       "  font-weight: bold;\n",
       "}\n",
       "\n",
       ".xr-var-list,\n",
       ".xr-var-item {\n",
       "  display: contents;\n",
       "}\n",
       "\n",
       ".xr-var-item > div,\n",
       ".xr-var-item label,\n",
       ".xr-var-item > .xr-var-name span {\n",
       "  background-color: var(--xr-background-color-row-even);\n",
       "  margin-bottom: 0;\n",
       "}\n",
       "\n",
       ".xr-var-item > .xr-var-name:hover span {\n",
       "  padding-right: 5px;\n",
       "}\n",
       "\n",
       ".xr-var-list > li:nth-child(odd) > div,\n",
       ".xr-var-list > li:nth-child(odd) > label,\n",
       ".xr-var-list > li:nth-child(odd) > .xr-var-name span {\n",
       "  background-color: var(--xr-background-color-row-odd);\n",
       "}\n",
       "\n",
       ".xr-var-name {\n",
       "  grid-column: 1;\n",
       "}\n",
       "\n",
       ".xr-var-dims {\n",
       "  grid-column: 2;\n",
       "}\n",
       "\n",
       ".xr-var-dtype {\n",
       "  grid-column: 3;\n",
       "  text-align: right;\n",
       "  color: var(--xr-font-color2);\n",
       "}\n",
       "\n",
       ".xr-var-preview {\n",
       "  grid-column: 4;\n",
       "}\n",
       "\n",
       ".xr-index-preview {\n",
       "  grid-column: 2 / 5;\n",
       "  color: var(--xr-font-color2);\n",
       "}\n",
       "\n",
       ".xr-var-name,\n",
       ".xr-var-dims,\n",
       ".xr-var-dtype,\n",
       ".xr-preview,\n",
       ".xr-attrs dt {\n",
       "  white-space: nowrap;\n",
       "  overflow: hidden;\n",
       "  text-overflow: ellipsis;\n",
       "  padding-right: 10px;\n",
       "}\n",
       "\n",
       ".xr-var-name:hover,\n",
       ".xr-var-dims:hover,\n",
       ".xr-var-dtype:hover,\n",
       ".xr-attrs dt:hover {\n",
       "  overflow: visible;\n",
       "  width: auto;\n",
       "  z-index: 1;\n",
       "}\n",
       "\n",
       ".xr-var-attrs,\n",
       ".xr-var-data,\n",
       ".xr-index-data {\n",
       "  display: none;\n",
       "  background-color: var(--xr-background-color) !important;\n",
       "  padding-bottom: 5px !important;\n",
       "}\n",
       "\n",
       ".xr-var-attrs-in:checked ~ .xr-var-attrs,\n",
       ".xr-var-data-in:checked ~ .xr-var-data,\n",
       ".xr-index-data-in:checked ~ .xr-index-data {\n",
       "  display: block;\n",
       "}\n",
       "\n",
       ".xr-var-data > table {\n",
       "  float: right;\n",
       "}\n",
       "\n",
       ".xr-var-name span,\n",
       ".xr-var-data,\n",
       ".xr-index-name div,\n",
       ".xr-index-data,\n",
       ".xr-attrs {\n",
       "  padding-left: 25px !important;\n",
       "}\n",
       "\n",
       ".xr-attrs,\n",
       ".xr-var-attrs,\n",
       ".xr-var-data,\n",
       ".xr-index-data {\n",
       "  grid-column: 1 / -1;\n",
       "}\n",
       "\n",
       "dl.xr-attrs {\n",
       "  padding: 0;\n",
       "  margin: 0;\n",
       "  display: grid;\n",
       "  grid-template-columns: 125px auto;\n",
       "}\n",
       "\n",
       ".xr-attrs dt,\n",
       ".xr-attrs dd {\n",
       "  padding: 0;\n",
       "  margin: 0;\n",
       "  float: left;\n",
       "  padding-right: 10px;\n",
       "  width: auto;\n",
       "}\n",
       "\n",
       ".xr-attrs dt {\n",
       "  font-weight: normal;\n",
       "  grid-column: 1;\n",
       "}\n",
       "\n",
       ".xr-attrs dt:hover span {\n",
       "  display: inline-block;\n",
       "  background: var(--xr-background-color);\n",
       "  padding-right: 10px;\n",
       "}\n",
       "\n",
       ".xr-attrs dd {\n",
       "  grid-column: 2;\n",
       "  white-space: pre-wrap;\n",
       "  word-break: break-all;\n",
       "}\n",
       "\n",
       ".xr-icon-database,\n",
       ".xr-icon-file-text2,\n",
       ".xr-no-icon {\n",
       "  display: inline-block;\n",
       "  vertical-align: middle;\n",
       "  width: 1em;\n",
       "  height: 1.5em !important;\n",
       "  stroke-width: 0;\n",
       "  stroke: currentColor;\n",
       "  fill: currentColor;\n",
       "}\n",
       "</style><pre class='xr-text-repr-fallback'>&lt;xarray.Dataset&gt;\n",
       "Dimensions:      (x: 2400, y: 2400)\n",
       "Coordinates:\n",
       "    band         int64 1\n",
       "  * x            (x) float64 -8.895e+06 -8.895e+06 ... -7.784e+06 -7.784e+06\n",
       "  * y            (y) float64 5.56e+06 5.559e+06 ... 4.448e+06 4.448e+06\n",
       "    spatial_ref  int64 0\n",
       "Data variables:\n",
       "    LC_Type1     (y, x) float32 1.0 1.0 5.0 5.0 1.0 ... 12.0 12.0 12.0 12.0 12.0\n",
       "    QC           (y, x) float32 0.0 0.0 0.0 0.0 0.0 0.0 ... 0.0 0.0 0.0 0.0 0.0\n",
       "    LW           (y, x) float32 2.0 2.0 2.0 2.0 2.0 2.0 ... 2.0 2.0 2.0 2.0 2.0\n",
       "    LC_Type2     (y, x) float32 1.0 1.0 5.0 5.0 1.0 ... 12.0 12.0 12.0 12.0 12.0\n",
       "    LC_Type3     (y, x) float32 7.0 7.0 7.0 7.0 7.0 7.0 ... 1.0 1.0 1.0 1.0 3.0\n",
       "Attributes: (12/64)\n",
       "    ALGORITHMPACKAGEACCEPTANCEDATE:     1998-01-01\n",
       "    ALGORITHMPACKAGEMATURITYCODE:       LAUNCH\n",
       "    ALGORITHMPACKAGENAME:               MOD12Q1\n",
       "    ALGORITHMPACKAGEVERSION:            V2.0\n",
       "    ASSOCIATEDINSTRUMENTSHORTNAME.1:    MODIS\n",
       "    ASSOCIATEDINSTRUMENTSHORTNAME.2:    MODIS\n",
       "    ...                                 ...\n",
       "    SOUTHBOUNDINGCOORDINATE:            40.0\n",
       "    SPSOPARAMETERS:                     2669\n",
       "    TileID:                             51010004\n",
       "    VERSIONID:                          61\n",
       "    VERTICALTILENUMBER:                 4\n",
       "    WESTBOUNDINGCOORDINATE:             -124.457906</pre><div class='xr-wrap' style='display:none'><div class='xr-header'><div class='xr-obj-type'>xarray.Dataset</div></div><ul class='xr-sections'><li class='xr-section-item'><input id='section-c34e9535-6a5e-4454-82e4-a418fd912454' class='xr-section-summary-in' type='checkbox' disabled ><label for='section-c34e9535-6a5e-4454-82e4-a418fd912454' class='xr-section-summary'  title='Expand/collapse section'>Dimensions:</label><div class='xr-section-inline-details'><ul class='xr-dim-list'><li><span class='xr-has-index'>x</span>: 2400</li><li><span class='xr-has-index'>y</span>: 2400</li></ul></div><div class='xr-section-details'></div></li><li class='xr-section-item'><input id='section-589a5448-0dd8-4931-95b0-32e42b1bc85d' class='xr-section-summary-in' type='checkbox'  checked><label for='section-589a5448-0dd8-4931-95b0-32e42b1bc85d' class='xr-section-summary' >Coordinates: <span>(4)</span></label><div class='xr-section-inline-details'></div><div class='xr-section-details'><ul class='xr-var-list'><li class='xr-var-item'><div class='xr-var-name'><span>band</span></div><div class='xr-var-dims'>()</div><div class='xr-var-dtype'>int64</div><div class='xr-var-preview xr-preview'>1</div><input id='attrs-6bc6bc16-bea1-4b8f-816f-24b3b8cbbe87' class='xr-var-attrs-in' type='checkbox' disabled><label for='attrs-6bc6bc16-bea1-4b8f-816f-24b3b8cbbe87' title='Show/Hide attributes'><svg class='icon xr-icon-file-text2'><use xlink:href='#icon-file-text2'></use></svg></label><input id='data-0a3c0d9d-95b7-45f4-9d20-86999b3313d5' class='xr-var-data-in' type='checkbox'><label for='data-0a3c0d9d-95b7-45f4-9d20-86999b3313d5' title='Show/Hide data repr'><svg class='icon xr-icon-database'><use xlink:href='#icon-database'></use></svg></label><div class='xr-var-attrs'><dl class='xr-attrs'></dl></div><div class='xr-var-data'><pre>array(1)</pre></div></li><li class='xr-var-item'><div class='xr-var-name'><span class='xr-has-index'>x</span></div><div class='xr-var-dims'>(x)</div><div class='xr-var-dtype'>float64</div><div class='xr-var-preview xr-preview'>-8.895e+06 ... -7.784e+06</div><input id='attrs-9807ca1b-1853-4c67-87c1-3273c490d6f7' class='xr-var-attrs-in' type='checkbox' disabled><label for='attrs-9807ca1b-1853-4c67-87c1-3273c490d6f7' title='Show/Hide attributes'><svg class='icon xr-icon-file-text2'><use xlink:href='#icon-file-text2'></use></svg></label><input id='data-1a6d227e-ef25-4362-ad9e-5b92a8762a37' class='xr-var-data-in' type='checkbox'><label for='data-1a6d227e-ef25-4362-ad9e-5b92a8762a37' title='Show/Hide data repr'><svg class='icon xr-icon-database'><use xlink:href='#icon-database'></use></svg></label><div class='xr-var-attrs'><dl class='xr-attrs'></dl></div><div class='xr-var-data'><pre>array([-8895372.500975, -8894909.188258, -8894445.875542, ..., -7784811.919458,\n",
       "       -7784348.606742, -7783885.294025])</pre></div></li><li class='xr-var-item'><div class='xr-var-name'><span class='xr-has-index'>y</span></div><div class='xr-var-dims'>(y)</div><div class='xr-var-dtype'>float64</div><div class='xr-var-preview xr-preview'>5.56e+06 5.559e+06 ... 4.448e+06</div><input id='attrs-bc1ff994-b499-45c2-9060-3060f25da546' class='xr-var-attrs-in' type='checkbox' disabled><label for='attrs-bc1ff994-b499-45c2-9060-3060f25da546' title='Show/Hide attributes'><svg class='icon xr-icon-file-text2'><use xlink:href='#icon-file-text2'></use></svg></label><input id='data-90686921-71e7-422a-9ff2-18d87dd35f50' class='xr-var-data-in' type='checkbox'><label for='data-90686921-71e7-422a-9ff2-18d87dd35f50' title='Show/Hide data repr'><svg class='icon xr-icon-database'><use xlink:href='#icon-database'></use></svg></label><div class='xr-var-attrs'><dl class='xr-attrs'></dl></div><div class='xr-var-data'><pre>array([5559520.941975, 5559057.629258, 5558594.316542, ..., 4448960.360458,\n",
       "       4448497.047742, 4448033.735025])</pre></div></li><li class='xr-var-item'><div class='xr-var-name'><span>spatial_ref</span></div><div class='xr-var-dims'>()</div><div class='xr-var-dtype'>int64</div><div class='xr-var-preview xr-preview'>0</div><input id='attrs-65416194-672d-4cb7-b4b5-6b3b4d1105d2' class='xr-var-attrs-in' type='checkbox' ><label for='attrs-65416194-672d-4cb7-b4b5-6b3b4d1105d2' title='Show/Hide attributes'><svg class='icon xr-icon-file-text2'><use xlink:href='#icon-file-text2'></use></svg></label><input id='data-07e6c4e5-03f4-4189-9db3-9efa96abac2a' class='xr-var-data-in' type='checkbox'><label for='data-07e6c4e5-03f4-4189-9db3-9efa96abac2a' title='Show/Hide data repr'><svg class='icon xr-icon-database'><use xlink:href='#icon-database'></use></svg></label><div class='xr-var-attrs'><dl class='xr-attrs'><dt><span>crs_wkt :</span></dt><dd>PROJCS[&quot;unnamed&quot;,GEOGCS[&quot;Unknown datum based upon the custom spheroid&quot;,DATUM[&quot;Not_specified_based_on_custom_spheroid&quot;,SPHEROID[&quot;Custom spheroid&quot;,6371007.181,0]],PRIMEM[&quot;Greenwich&quot;,0],UNIT[&quot;degree&quot;,0.0174532925199433,AUTHORITY[&quot;EPSG&quot;,&quot;9122&quot;]]],PROJECTION[&quot;Sinusoidal&quot;],PARAMETER[&quot;longitude_of_center&quot;,0],PARAMETER[&quot;false_easting&quot;,0],PARAMETER[&quot;false_northing&quot;,0],UNIT[&quot;Meter&quot;,1],AXIS[&quot;Easting&quot;,EAST],AXIS[&quot;Northing&quot;,NORTH]]</dd><dt><span>semi_major_axis :</span></dt><dd>6371007.181</dd><dt><span>semi_minor_axis :</span></dt><dd>6371007.181</dd><dt><span>inverse_flattening :</span></dt><dd>0.0</dd><dt><span>reference_ellipsoid_name :</span></dt><dd>Custom spheroid</dd><dt><span>longitude_of_prime_meridian :</span></dt><dd>0.0</dd><dt><span>prime_meridian_name :</span></dt><dd>Greenwich</dd><dt><span>geographic_crs_name :</span></dt><dd>Unknown datum based upon the custom spheroid</dd><dt><span>horizontal_datum_name :</span></dt><dd>Not_specified_based_on_custom_spheroid</dd><dt><span>projected_crs_name :</span></dt><dd>unnamed</dd><dt><span>grid_mapping_name :</span></dt><dd>sinusoidal</dd><dt><span>longitude_of_projection_origin :</span></dt><dd>0.0</dd><dt><span>false_easting :</span></dt><dd>0.0</dd><dt><span>false_northing :</span></dt><dd>0.0</dd><dt><span>spatial_ref :</span></dt><dd>PROJCS[&quot;unnamed&quot;,GEOGCS[&quot;Unknown datum based upon the custom spheroid&quot;,DATUM[&quot;Not_specified_based_on_custom_spheroid&quot;,SPHEROID[&quot;Custom spheroid&quot;,6371007.181,0]],PRIMEM[&quot;Greenwich&quot;,0],UNIT[&quot;degree&quot;,0.0174532925199433,AUTHORITY[&quot;EPSG&quot;,&quot;9122&quot;]]],PROJECTION[&quot;Sinusoidal&quot;],PARAMETER[&quot;longitude_of_center&quot;,0],PARAMETER[&quot;false_easting&quot;,0],PARAMETER[&quot;false_northing&quot;,0],UNIT[&quot;Meter&quot;,1],AXIS[&quot;Easting&quot;,EAST],AXIS[&quot;Northing&quot;,NORTH]]</dd><dt><span>GeoTransform :</span></dt><dd>-8895604.157333 463.31271652749973 0.0 5559752.598333 0.0 -463.31271652750013</dd></dl></div><div class='xr-var-data'><pre>array(0)</pre></div></li></ul></div></li><li class='xr-section-item'><input id='section-19a47ac0-4b44-49b7-b9fa-e6bb5f93ee10' class='xr-section-summary-in' type='checkbox'  checked><label for='section-19a47ac0-4b44-49b7-b9fa-e6bb5f93ee10' class='xr-section-summary' >Data variables: <span>(5)</span></label><div class='xr-section-inline-details'></div><div class='xr-section-details'><ul class='xr-var-list'><li class='xr-var-item'><div class='xr-var-name'><span>LC_Type1</span></div><div class='xr-var-dims'>(y, x)</div><div class='xr-var-dtype'>float32</div><div class='xr-var-preview xr-preview'>1.0 1.0 5.0 5.0 ... 12.0 12.0 12.0</div><input id='attrs-b5d04db8-5465-40bc-b261-3a8f23f8208b' class='xr-var-attrs-in' type='checkbox' ><label for='attrs-b5d04db8-5465-40bc-b261-3a8f23f8208b' title='Show/Hide attributes'><svg class='icon xr-icon-file-text2'><use xlink:href='#icon-file-text2'></use></svg></label><input id='data-c2a25f51-2b71-4de0-ac9f-71f2a625c1e0' class='xr-var-data-in' type='checkbox'><label for='data-c2a25f51-2b71-4de0-ac9f-71f2a625c1e0' title='Show/Hide data repr'><svg class='icon xr-icon-database'><use xlink:href='#icon-database'></use></svg></label><div class='xr-var-attrs'><dl class='xr-attrs'><dt><span>Barren :</span></dt><dd>16</dd><dt><span>Closed Shrublands :</span></dt><dd>6</dd><dt><span>Cropland/Natural Vegetation Mosaics :</span></dt><dd>14</dd><dt><span>Croplands :</span></dt><dd>12</dd><dt><span>Deciduous Broadleaf Forests :</span></dt><dd>4</dd><dt><span>Deciduous Needleleaf Forests :</span></dt><dd>3</dd><dt><span>Evergreen Broadleaf Forests :</span></dt><dd>2</dd><dt><span>Evergreen Needleleaf Forests :</span></dt><dd>1</dd><dt><span>Grasslands :</span></dt><dd>10</dd><dt><span>long_name :</span></dt><dd>Land_Cover_Type_1</dd><dt><span>Mixed Forests :</span></dt><dd>5</dd><dt><span>Open Shrublands :</span></dt><dd>7</dd><dt><span>Permanent Snow and Ice :</span></dt><dd>15</dd><dt><span>Permanent Wetlands :</span></dt><dd>11</dd><dt><span>Savannas :</span></dt><dd>9</dd><dt><span>Unclassified :</span></dt><dd>255</dd><dt><span>Urban and Built-up Lands :</span></dt><dd>13</dd><dt><span>valid_range :</span></dt><dd>1, 17</dd><dt><span>Water Bodies :</span></dt><dd>17</dd><dt><span>Woody Savannas :</span></dt><dd>8</dd><dt><span>scale_factor :</span></dt><dd>1.0</dd><dt><span>add_offset :</span></dt><dd>0.0</dd></dl></div><div class='xr-var-data'><pre>array([[ 1.,  1.,  5., ..., 12., 12., 12.],\n",
       "       [ 1.,  1.,  1., ..., 12., 12., 12.],\n",
       "       [ 1.,  1.,  1., ..., 12., 12., 12.],\n",
       "       ...,\n",
       "       [10., 12., 12., ..., 12., 14., 14.],\n",
       "       [12., 12., 12., ..., 14., 12., 12.],\n",
       "       [12., 12., 12., ..., 12., 12., 12.]], dtype=float32)</pre></div></li><li class='xr-var-item'><div class='xr-var-name'><span>QC</span></div><div class='xr-var-dims'>(y, x)</div><div class='xr-var-dtype'>float32</div><div class='xr-var-preview xr-preview'>0.0 0.0 0.0 0.0 ... 0.0 0.0 0.0 0.0</div><input id='attrs-bc31e932-6b84-4979-807b-d9fe05251644' class='xr-var-attrs-in' type='checkbox' ><label for='attrs-bc31e932-6b84-4979-807b-d9fe05251644' title='Show/Hide attributes'><svg class='icon xr-icon-file-text2'><use xlink:href='#icon-file-text2'></use></svg></label><input id='data-cce0c1d6-ab13-46b1-8ff1-cef12cc63379' class='xr-var-data-in' type='checkbox'><label for='data-cce0c1d6-ab13-46b1-8ff1-cef12cc63379' title='Show/Hide data repr'><svg class='icon xr-icon-database'><use xlink:href='#icon-database'></use></svg></label><div class='xr-var-attrs'><dl class='xr-attrs'><dt><span>long_name :</span></dt><dd>Quality_Flags</dd><dt><span>valid_range :</span></dt><dd>0, 10</dd><dt><span>scale_factor :</span></dt><dd>1.0</dd><dt><span>add_offset :</span></dt><dd>0.0</dd></dl></div><div class='xr-var-data'><pre>array([[0., 0., 0., ..., 0., 0., 0.],\n",
       "       [0., 0., 0., ..., 0., 0., 0.],\n",
       "       [0., 0., 0., ..., 0., 0., 0.],\n",
       "       ...,\n",
       "       [0., 0., 0., ..., 0., 0., 0.],\n",
       "       [0., 0., 0., ..., 0., 0., 0.],\n",
       "       [0., 0., 0., ..., 0., 0., 0.]], dtype=float32)</pre></div></li><li class='xr-var-item'><div class='xr-var-name'><span>LW</span></div><div class='xr-var-dims'>(y, x)</div><div class='xr-var-dtype'>float32</div><div class='xr-var-preview xr-preview'>2.0 2.0 2.0 2.0 ... 2.0 2.0 2.0 2.0</div><input id='attrs-d322b1bb-18c5-49e6-a6a5-b28d400e7d7a' class='xr-var-attrs-in' type='checkbox' ><label for='attrs-d322b1bb-18c5-49e6-a6a5-b28d400e7d7a' title='Show/Hide attributes'><svg class='icon xr-icon-file-text2'><use xlink:href='#icon-file-text2'></use></svg></label><input id='data-7dd6bac4-3986-4045-8b17-32090cee8875' class='xr-var-data-in' type='checkbox'><label for='data-7dd6bac4-3986-4045-8b17-32090cee8875' title='Show/Hide data repr'><svg class='icon xr-icon-database'><use xlink:href='#icon-database'></use></svg></label><div class='xr-var-attrs'><dl class='xr-attrs'><dt><span>long_name :</span></dt><dd>Land_Water_Mask</dd><dt><span>valid_range :</span></dt><dd>1, 2</dd><dt><span>scale_factor :</span></dt><dd>1.0</dd><dt><span>add_offset :</span></dt><dd>0.0</dd></dl></div><div class='xr-var-data'><pre>array([[2., 2., 2., ..., 2., 2., 2.],\n",
       "       [2., 2., 2., ..., 2., 2., 2.],\n",
       "       [2., 2., 2., ..., 2., 2., 2.],\n",
       "       ...,\n",
       "       [2., 2., 2., ..., 2., 2., 2.],\n",
       "       [2., 2., 2., ..., 2., 2., 2.],\n",
       "       [2., 2., 2., ..., 2., 2., 2.]], dtype=float32)</pre></div></li><li class='xr-var-item'><div class='xr-var-name'><span>LC_Type2</span></div><div class='xr-var-dims'>(y, x)</div><div class='xr-var-dtype'>float32</div><div class='xr-var-preview xr-preview'>1.0 1.0 5.0 5.0 ... 12.0 12.0 12.0</div><input id='attrs-9d01d43f-f9c6-4a5e-9545-4b942e823a07' class='xr-var-attrs-in' type='checkbox' ><label for='attrs-9d01d43f-f9c6-4a5e-9545-4b942e823a07' title='Show/Hide attributes'><svg class='icon xr-icon-file-text2'><use xlink:href='#icon-file-text2'></use></svg></label><input id='data-79cef387-c135-43ae-8039-b22ad14dc225' class='xr-var-data-in' type='checkbox'><label for='data-79cef387-c135-43ae-8039-b22ad14dc225' title='Show/Hide data repr'><svg class='icon xr-icon-database'><use xlink:href='#icon-database'></use></svg></label><div class='xr-var-attrs'><dl class='xr-attrs'><dt><span>Barren :</span></dt><dd>15</dd><dt><span>Closed Shrublands :</span></dt><dd>6</dd><dt><span>Croplands :</span></dt><dd>12</dd><dt><span>Deciduous Broadleaf Forests :</span></dt><dd>4</dd><dt><span>Deciduous Needleleaf Forests :</span></dt><dd>3</dd><dt><span>Evergreen Broadleaf Forests :</span></dt><dd>2</dd><dt><span>Evergreen Needleleaf Forests :</span></dt><dd>1</dd><dt><span>Grasslands :</span></dt><dd>10</dd><dt><span>long_name :</span></dt><dd>Land_Cover_Type_2</dd><dt><span>Mixed Forests :</span></dt><dd>5</dd><dt><span>Open Shrublands :</span></dt><dd>7</dd><dt><span>Savannas :</span></dt><dd>9</dd><dt><span>Unclassified :</span></dt><dd>255</dd><dt><span>Urban and Built-up Lands :</span></dt><dd>13</dd><dt><span>valid_range :</span></dt><dd>0, 15</dd><dt><span>Water Bodies :</span></dt><dd>0</dd><dt><span>Woody Savannas :</span></dt><dd>8</dd><dt><span>scale_factor :</span></dt><dd>1.0</dd><dt><span>add_offset :</span></dt><dd>0.0</dd></dl></div><div class='xr-var-data'><pre>array([[ 1.,  1.,  5., ..., 12., 12., 12.],\n",
       "       [ 1.,  1.,  1., ..., 12., 12., 12.],\n",
       "       [ 1.,  1.,  1., ..., 12., 12., 12.],\n",
       "       ...,\n",
       "       [10., 12., 12., ..., 12.,  9.,  9.],\n",
       "       [12., 12., 12., ...,  8., 12., 12.],\n",
       "       [12., 12., 12., ..., 12., 12., 12.]], dtype=float32)</pre></div></li><li class='xr-var-item'><div class='xr-var-name'><span>LC_Type3</span></div><div class='xr-var-dims'>(y, x)</div><div class='xr-var-dtype'>float32</div><div class='xr-var-preview xr-preview'>7.0 7.0 7.0 7.0 ... 1.0 1.0 1.0 3.0</div><input id='attrs-8b65952b-5154-4629-86be-9a66f7359b04' class='xr-var-attrs-in' type='checkbox' ><label for='attrs-8b65952b-5154-4629-86be-9a66f7359b04' title='Show/Hide attributes'><svg class='icon xr-icon-file-text2'><use xlink:href='#icon-file-text2'></use></svg></label><input id='data-4c8ede4a-1a01-4ab9-ad15-eee3b89b6196' class='xr-var-data-in' type='checkbox'><label for='data-4c8ede4a-1a01-4ab9-ad15-eee3b89b6196' title='Show/Hide data repr'><svg class='icon xr-icon-database'><use xlink:href='#icon-database'></use></svg></label><div class='xr-var-attrs'><dl class='xr-attrs'><dt><span>Broadleaf Croplands :</span></dt><dd>3</dd><dt><span>Deciduous Broadleaf Forests :</span></dt><dd>6</dd><dt><span>Deciduous Needleleaf Forests :</span></dt><dd>8</dd><dt><span>Evergreen Broadleaf Forests :</span></dt><dd>5</dd><dt><span>Evergreen Needleleaf Forests :</span></dt><dd>7</dd><dt><span>Grasslands :</span></dt><dd>1</dd><dt><span>long_name :</span></dt><dd>Land_Cover_Type_3</dd><dt><span>Savannas :</span></dt><dd>4</dd><dt><span>Shrublands :</span></dt><dd>2</dd><dt><span>Unclassified :</span></dt><dd>255</dd><dt><span>Unvegetated :</span></dt><dd>9</dd><dt><span>Urban and Built-up Lands :</span></dt><dd>10</dd><dt><span>valid_range :</span></dt><dd>0, 10</dd><dt><span>Water Bodies :</span></dt><dd>0</dd><dt><span>scale_factor :</span></dt><dd>1.0</dd><dt><span>add_offset :</span></dt><dd>0.0</dd></dl></div><div class='xr-var-data'><pre>array([[7., 7., 7., ..., 1., 1., 1.],\n",
       "       [7., 7., 7., ..., 1., 1., 1.],\n",
       "       [7., 7., 7., ..., 1., 1., 1.],\n",
       "       ...,\n",
       "       [1., 1., 1., ..., 1., 4., 4.],\n",
       "       [1., 1., 1., ..., 4., 1., 1.],\n",
       "       [1., 1., 1., ..., 1., 1., 3.]], dtype=float32)</pre></div></li></ul></div></li><li class='xr-section-item'><input id='section-dc7fb1cd-5993-4fe0-b8da-0c1dadfc3840' class='xr-section-summary-in' type='checkbox'  ><label for='section-dc7fb1cd-5993-4fe0-b8da-0c1dadfc3840' class='xr-section-summary' >Indexes: <span>(2)</span></label><div class='xr-section-inline-details'></div><div class='xr-section-details'><ul class='xr-var-list'><li class='xr-var-item'><div class='xr-index-name'><div>x</div></div><div class='xr-index-preview'>PandasIndex</div><div></div><input id='index-67087a04-f053-4019-9c2f-520404bd8082' class='xr-index-data-in' type='checkbox'/><label for='index-67087a04-f053-4019-9c2f-520404bd8082' title='Show/Hide index repr'><svg class='icon xr-icon-database'><use xlink:href='#icon-database'></use></svg></label><div class='xr-index-data'><pre>PandasIndex(Float64Index([ -8895372.500974735,  -8894909.188258208,   -8894445.87554168,\n",
       "               -8893982.562825153,  -8893519.250108626,  -8893055.937392097,\n",
       "                -8892592.62467557,  -8892129.311959043,  -8891665.999242514,\n",
       "               -8891202.686525987,\n",
       "              ...\n",
       "               -7788055.108474011,  -7787591.795757484,  -7787128.483040956,\n",
       "               -7786665.170324428,  -7786201.857607901,  -7785738.544891373,\n",
       "               -7785275.232174845, -7784811.9194583185,  -7784348.606741791,\n",
       "               -7783885.294025263],\n",
       "             dtype=&#x27;float64&#x27;, name=&#x27;x&#x27;, length=2400))</pre></div></li><li class='xr-var-item'><div class='xr-index-name'><div>y</div></div><div class='xr-index-preview'>PandasIndex</div><div></div><input id='index-6a719702-aa7c-46c2-a223-61b4d3ace5a9' class='xr-index-data-in' type='checkbox'/><label for='index-6a719702-aa7c-46c2-a223-61b4d3ace5a9' title='Show/Hide index repr'><svg class='icon xr-icon-database'><use xlink:href='#icon-database'></use></svg></label><div class='xr-index-data'><pre>PandasIndex(Float64Index([ 5559520.941974737,  5559057.629258209,  5558594.316541682,\n",
       "               5558131.003825154,  5557667.691108626,  5557204.378392099,\n",
       "               5556741.065675572,  5556277.752959045,  5555814.440242517,\n",
       "               5555351.127525989,\n",
       "              ...\n",
       "               4452203.549474011,  4451740.236757484,  4451276.924040956,\n",
       "              4450813.6113244295,  4450350.298607902,  4449886.985891374,\n",
       "               4449423.673174847,  4448960.360458319,  4448497.047741791,\n",
       "               4448033.735025264],\n",
       "             dtype=&#x27;float64&#x27;, name=&#x27;y&#x27;, length=2400))</pre></div></li></ul></div></li><li class='xr-section-item'><input id='section-ffef4e08-e576-455b-a29e-eefa0d0cfbe0' class='xr-section-summary-in' type='checkbox'  ><label for='section-ffef4e08-e576-455b-a29e-eefa0d0cfbe0' class='xr-section-summary' >Attributes: <span>(64)</span></label><div class='xr-section-inline-details'></div><div class='xr-section-details'><dl class='xr-attrs'><dt><span>ALGORITHMPACKAGEACCEPTANCEDATE :</span></dt><dd>1998-01-01</dd><dt><span>ALGORITHMPACKAGEMATURITYCODE :</span></dt><dd>LAUNCH</dd><dt><span>ALGORITHMPACKAGENAME :</span></dt><dd>MOD12Q1</dd><dt><span>ALGORITHMPACKAGEVERSION :</span></dt><dd>V2.0</dd><dt><span>ASSOCIATEDINSTRUMENTSHORTNAME.1 :</span></dt><dd>MODIS</dd><dt><span>ASSOCIATEDINSTRUMENTSHORTNAME.2 :</span></dt><dd>MODIS</dd><dt><span>ASSOCIATEDPLATFORMSHORTNAME.1 :</span></dt><dd>Terra</dd><dt><span>ASSOCIATEDPLATFORMSHORTNAME.2 :</span></dt><dd>Aqua</dd><dt><span>ASSOCIATEDSENSORSHORTNAME.1 :</span></dt><dd>MODIS</dd><dt><span>ASSOCIATEDSENSORSHORTNAME.2 :</span></dt><dd>MODIS</dd><dt><span>AUTOMATICQUALITYFLAG.1 :</span></dt><dd>Passed</dd><dt><span>AUTOMATICQUALITYFLAGEXPLANATION.1 :</span></dt><dd>To be set as &#x27;Passed&#x27; or &#x27;Failed&#x27; to indicate failure of PGE test.</dd><dt><span>CHARACTERISTICBINANGULARSIZE :</span></dt><dd>15.0</dd><dt><span>CHARACTERISTICBINSIZE :</span></dt><dd>463.3127165</dd><dt><span>DATACOLUMNS :</span></dt><dd>2400</dd><dt><span>DATAROWS :</span></dt><dd>2400</dd><dt><span>DAYNIGHTFLAG :</span></dt><dd>Day</dd><dt><span>DESCRREVISION :</span></dt><dd>6.1</dd><dt><span>EASTBOUNDINGCOORDINATE :</span></dt><dd>-91.367632</dd><dt><span>EXCLUSIONGRINGFLAG.1 :</span></dt><dd>N</dd><dt><span>GEOANYABNORMAL :</span></dt><dd>False</dd><dt><span>GEOESTMAXRMSERROR :</span></dt><dd>50.0</dd><dt><span>GLOBALGRIDCOLUMNS :</span></dt><dd>86400</dd><dt><span>GLOBALGRIDROWS :</span></dt><dd>43200</dd><dt><span>GRINGPOINTLATITUDE.1 :</span></dt><dd>39.755682, 49.967694, 50.104685, 39.855422</dd><dt><span>GRINGPOINTLONGITUDE.1 :</span></dt><dd>-104.520196, -124.885362, -109.002143, -91.190961</dd><dt><span>GRINGPOINTSEQUENCENO.1 :</span></dt><dd>1, 2, 3, 4</dd><dt><span>HDFEOSVersion :</span></dt><dd>HDFEOS_V2.19</dd><dt><span>HORIZONTALTILENUMBER :</span></dt><dd>10</dd><dt><span>identifier_product_doi :</span></dt><dd>10.5067/MODIS/MCD12Q1.061</dd><dt><span>identifier_product_doi_authority :</span></dt><dd>http://dx.doi.org</dd><dt><span>INPUTPOINTER :</span></dt><dd>MCD12Q1.A2006001.h10v04.061.2022154025039.hdf, igbp_h10v04_2007.hdf, umd_h10v04_2007.hdf, lai_h10v04_2007.hdf, bgc_h10v04_2007.hdf, pft_h10v04_2007.hdf, prob1_h10v04_2007.hdf, prob2_h10v04_2007.hdf, prob3_h10v04_2007.hdf, lccs1_h10v04_2007.hdf, lccs2_h10v04_2007.hdf, lccs3_h10v04_2007.hdf, qa_h10v04_2007.hdf, lw_h10v04_2007.hdf</dd><dt><span>LOCALGRANULEID :</span></dt><dd>MCD12Q1.A2007001.h10v04.061.2022154052218.hdf</dd><dt><span>LOCALVERSIONID :</span></dt><dd>6.0.1</dd><dt><span>LONGNAME :</span></dt><dd>MODIS/Terra+Aqua Land Cover Type Yearly L3 Global 500m SIN Grid</dd><dt><span>NADIRDATARESOLUTION :</span></dt><dd>500m</dd><dt><span>NORTHBOUNDINGCOORDINATE :</span></dt><dd>50.0</dd><dt><span>PARAMETERNAME.1 :</span></dt><dd>Land_Cover_Type_1</dd><dt><span>PGEVERSION :</span></dt><dd>6.1.1</dd><dt><span>PROCESSINGCENTER :</span></dt><dd>MODAPS</dd><dt><span>PROCESSINGENVIRONMENT :</span></dt><dd>Linux minion7246 3.10.0-1160.62.1.el7.x86_64 #1 SMP Tue Apr 5 16:57:59 UTC 2022 x86_64 x86_64 x86_64 GNU/Linux</dd><dt><span>PRODUCTIONDATETIME :</span></dt><dd>2022-06-03T05:22:18.000Z</dd><dt><span>QAPERCENTGOODQUALITY :</span></dt><dd>100</dd><dt><span>QAPERCENTINTERPOLATEDDATA.1 :</span></dt><dd>0</dd><dt><span>QAPERCENTMISSINGDATA.1 :</span></dt><dd>0</dd><dt><span>QAPERCENTNOTPRODUCEDCLOUD :</span></dt><dd>0</dd><dt><span>QAPERCENTNOTPRODUCEDOTHER :</span></dt><dd>0</dd><dt><span>QAPERCENTOTHERQUALITY :</span></dt><dd>0</dd><dt><span>QAPERCENTOUTOFBOUNDSDATA.1 :</span></dt><dd>0</dd><dt><span>RANGEBEGINNINGDATE :</span></dt><dd>2007-01-01</dd><dt><span>RANGEBEGINNINGTIME :</span></dt><dd>00:00:00</dd><dt><span>RANGEENDINGDATE :</span></dt><dd>2007-12-31</dd><dt><span>RANGEENDINGTIME :</span></dt><dd>23:59:59</dd><dt><span>REPROCESSINGACTUAL :</span></dt><dd>reprocessed</dd><dt><span>REPROCESSINGPLANNED :</span></dt><dd>further update is anticipated</dd><dt><span>SCIENCEQUALITYFLAG.1 :</span></dt><dd>Not Investigated</dd><dt><span>SCIENCEQUALITYFLAGEXPLANATION.1 :</span></dt><dd>See http://landweb.nascom.nasa.gov/cgi-bin/QA_WWW/qaFlagPage.cgi?sat=terra/aqua&amp;ver=C6 for the product Science Quality status.</dd><dt><span>SHORTNAME :</span></dt><dd>MCD12Q1</dd><dt><span>SOUTHBOUNDINGCOORDINATE :</span></dt><dd>40.0</dd><dt><span>SPSOPARAMETERS :</span></dt><dd>2669</dd><dt><span>TileID :</span></dt><dd>51010004</dd><dt><span>VERSIONID :</span></dt><dd>61</dd><dt><span>VERTICALTILENUMBER :</span></dt><dd>4</dd><dt><span>WESTBOUNDINGCOORDINATE :</span></dt><dd>-124.457906</dd></dl></div></li></ul></div></div>"
      ],
      "text/plain": [
       "<xarray.Dataset>\n",
       "Dimensions:      (x: 2400, y: 2400)\n",
       "Coordinates:\n",
       "    band         int64 1\n",
       "  * x            (x) float64 -8.895e+06 -8.895e+06 ... -7.784e+06 -7.784e+06\n",
       "  * y            (y) float64 5.56e+06 5.559e+06 ... 4.448e+06 4.448e+06\n",
       "    spatial_ref  int64 0\n",
       "Data variables:\n",
       "    LC_Type1     (y, x) float32 1.0 1.0 5.0 5.0 1.0 ... 12.0 12.0 12.0 12.0 12.0\n",
       "    QC           (y, x) float32 0.0 0.0 0.0 0.0 0.0 0.0 ... 0.0 0.0 0.0 0.0 0.0\n",
       "    LW           (y, x) float32 2.0 2.0 2.0 2.0 2.0 2.0 ... 2.0 2.0 2.0 2.0 2.0\n",
       "    LC_Type2     (y, x) float32 1.0 1.0 5.0 5.0 1.0 ... 12.0 12.0 12.0 12.0 12.0\n",
       "    LC_Type3     (y, x) float32 7.0 7.0 7.0 7.0 7.0 7.0 ... 1.0 1.0 1.0 1.0 3.0\n",
       "Attributes: (12/64)\n",
       "    ALGORITHMPACKAGEACCEPTANCEDATE:     1998-01-01\n",
       "    ALGORITHMPACKAGEMATURITYCODE:       LAUNCH\n",
       "    ALGORITHMPACKAGENAME:               MOD12Q1\n",
       "    ALGORITHMPACKAGEVERSION:            V2.0\n",
       "    ASSOCIATEDINSTRUMENTSHORTNAME.1:    MODIS\n",
       "    ASSOCIATEDINSTRUMENTSHORTNAME.2:    MODIS\n",
       "    ...                                 ...\n",
       "    SOUTHBOUNDINGCOORDINATE:            40.0\n",
       "    SPSOPARAMETERS:                     2669\n",
       "    TileID:                             51010004\n",
       "    VERSIONID:                          61\n",
       "    VERTICALTILENUMBER:                 4\n",
       "    WESTBOUNDINGCOORDINATE:             -124.457906"
      ]
     },
     "execution_count": 10,
     "metadata": {},
     "output_type": "execute_result"
    }
   ],
   "source": [
    "samp2"
   ]
  },
  {
   "cell_type": "code",
   "execution_count": 9,
   "id": "ee3620dd-3bbe-4d13-b8f6-52dc09cfa783",
   "metadata": {},
   "outputs": [
    {
     "name": "stdout",
     "output_type": "stream",
     "text": [
      "True\n",
      "True\n",
      "2201\n",
      "2584\n"
     ]
    }
   ],
   "source": [
    "# Check to make sure that the lat & lons are the same \n",
    "print(np.array_equal(lat_1, lat_2)) # should be True\n",
    "print(np.array_equal(lon_1, lon_2)) # should be True\n",
    "\n",
    "print(len(lat_1))\n",
    "print(len(lon_1))"
   ]
  },
  {
   "cell_type": "markdown",
   "id": "8907b9ef-dc92-4be5-80ac-1c9750cad599",
   "metadata": {},
   "source": [
    "Finally, I format and save the coordinates and datasets for this cell."
   ]
  },
  {
   "cell_type": "code",
   "execution_count": 10,
   "id": "06283b3f-e940-412e-b08c-a9619b471aee",
   "metadata": {},
   "outputs": [],
   "source": [
    "# Define objects to save\n",
    "lats = np.array(lat_1)\n",
    "lons = np.array(lon_1)\n",
    "modis_h10v04 = array_h10v04"
   ]
  },
  {
   "cell_type": "code",
   "execution_count": 11,
   "id": "8754f19d-3392-469c-b91e-473d7c97cfcd",
   "metadata": {},
   "outputs": [],
   "source": [
    "# Save in pickle files\n",
    "filehandler = open('../../data/intermediate/MODIS/lats_h10v04.pickle', 'wb')\n",
    "pickle.dump(lats, filehandler)\n",
    "filehandler.close()\n",
    "\n",
    "filehandler = open('../../data/intermediate/MODIS/lons_h10v04.pickle', 'wb')\n",
    "pickle.dump(lons, filehandler)\n",
    "filehandler.close()\n",
    "\n",
    "filehandler = open('../../data/intermediate/MODIS/modis_h10v04.pickle', 'wb')\n",
    "pickle.dump(modis_h10v04, filehandler)\n",
    "filehandler.close()"
   ]
  },
  {
   "cell_type": "markdown",
   "id": "cd18ff94-9544-4545-a37e-48ad71558fa3",
   "metadata": {},
   "source": [
    "## Cell 2: h10v05"
   ]
  },
  {
   "cell_type": "markdown",
   "id": "b5c46cd7-c269-45c8-a18d-61f306c70e21",
   "metadata": {},
   "source": [
    "Now that I've run through things once, I'm not going to explain the invidiual steps. I'll just repeat them."
   ]
  },
  {
   "cell_type": "code",
   "execution_count": 12,
   "id": "fc053a8e-8c42-400b-8d0e-f5d4b6c8ecd3",
   "metadata": {},
   "outputs": [
    {
     "data": {
      "text/plain": [
       "array([ 0,  1,  2,  3,  4,  5,  6,  7,  8,  9, 10, 11, 12, 13, 14, 15, 16,\n",
       "       17, 18, 19, 20, 21, 22])"
      ]
     },
     "execution_count": 12,
     "metadata": {},
     "output_type": "execute_result"
    }
   ],
   "source": [
    "data_dir = '/Volumes/FileBackup/SDM_bigdata/MODIS/h10v05'\n",
    "file_list = glob(os.path.join(data_dir, '*.hdf'))\n",
    "\n",
    "ii = np.arange(np.shape(file_list)[0])\n",
    "ii"
   ]
  },
  {
   "cell_type": "code",
   "execution_count": 13,
   "id": "80e48481-65e4-45ec-824c-4e0bca0e67e6",
   "metadata": {},
   "outputs": [],
   "source": [
    "list_h10v05 = [data_func(i) for i in ii]"
   ]
  },
  {
   "cell_type": "code",
   "execution_count": 14,
   "id": "2d332b83-a7b7-417e-8faf-f195476a5fc4",
   "metadata": {},
   "outputs": [],
   "source": [
    "array_h10v05 = np.array(list_h10v05)"
   ]
  },
  {
   "cell_type": "code",
   "execution_count": 15,
   "id": "c26ad575-bd57-414a-b6bb-b9c9addb5d00",
   "metadata": {},
   "outputs": [
    {
     "data": {
      "text/plain": [
       "(23, 5, 1862, 2841)"
      ]
     },
     "execution_count": 15,
     "metadata": {},
     "output_type": "execute_result"
    }
   ],
   "source": [
    "np.shape(array_h10v05)"
   ]
  },
  {
   "cell_type": "code",
   "execution_count": 16,
   "id": "df6b117f-05e1-48f6-a967-871afca23a2e",
   "metadata": {},
   "outputs": [],
   "source": [
    "samp1 = rxr.open_rasterio(file_list[0], masked = True, variable = desired_datasets).squeeze()\n",
    "samp2 = rxr.open_rasterio(file_list[10], masked = True, variable = desired_datasets).squeeze()\n",
    "\n",
    "samp1_reprojected = samp1.rio.reproject('EPSG:3175')\n",
    "samp2_reprojected = samp2.rio.reproject('EPSG:3175')\n",
    "\n",
    "lat_1 = samp1_reprojected['y']\n",
    "lat_2 = samp2_reprojected['y']\n",
    "lon_1 = samp1_reprojected['x']\n",
    "lon_2 = samp2_reprojected['x']"
   ]
  },
  {
   "cell_type": "code",
   "execution_count": 17,
   "id": "345229ef-0484-4a9e-b4ec-d3c2a633c112",
   "metadata": {},
   "outputs": [
    {
     "name": "stdout",
     "output_type": "stream",
     "text": [
      "True\n",
      "True\n",
      "1862\n",
      "2841\n"
     ]
    }
   ],
   "source": [
    "print(np.array_equal(lat_1, lat_2))\n",
    "print(np.array_equal(lon_1, lon_2))\n",
    "\n",
    "print(len(lat_1))\n",
    "print(len(lon_1))"
   ]
  },
  {
   "cell_type": "code",
   "execution_count": 18,
   "id": "f7970d7e-80b7-4b92-82b6-0a39d3db8b91",
   "metadata": {},
   "outputs": [],
   "source": [
    "lats = np.array(lat_1)\n",
    "lons = np.array(lon_1)\n",
    "modis_h10v05 = array_h10v05"
   ]
  },
  {
   "cell_type": "code",
   "execution_count": 19,
   "id": "e427eec8-c874-41c8-b5d5-782f590ad24f",
   "metadata": {},
   "outputs": [],
   "source": [
    "filehandler = open('../../data/intermediate/MODIS/lats_h10v05.pickle', 'wb')\n",
    "pickle.dump(lats, filehandler)\n",
    "filehandler.close()\n",
    "\n",
    "filehandler = open('../../data/intermediate/MODIS/lons_h10v05.pickle', 'wb')\n",
    "pickle.dump(lons, filehandler)\n",
    "filehandler.close()\n",
    "\n",
    "filehandler = open('../../data/intermediate/MODIS/modis_h10v05.pickle', 'wb')\n",
    "pickle.dump(modis_h10v05, filehandler)\n",
    "filehandler.close()"
   ]
  },
  {
   "cell_type": "markdown",
   "id": "ab963547-eee4-4789-b741-f87d84edb931",
   "metadata": {},
   "source": [
    "## Cell 3: h11v04"
   ]
  },
  {
   "cell_type": "code",
   "execution_count": 21,
   "id": "b69dbca2-c00a-4aa4-9ecc-e86c3b47ca14",
   "metadata": {},
   "outputs": [
    {
     "data": {
      "text/plain": [
       "array([ 0,  1,  2,  3,  4,  5,  6,  7,  8,  9, 10, 11, 12, 13, 14, 15, 16,\n",
       "       17, 18, 19, 20, 21, 22])"
      ]
     },
     "execution_count": 21,
     "metadata": {},
     "output_type": "execute_result"
    }
   ],
   "source": [
    "data_dir = '/Volumes/FileBackup/SDM_bigdata/MODIS/h11v04'\n",
    "file_list = glob(os.path.join(data_dir, '*.hdf'))\n",
    "\n",
    "ii = np.arange(np.shape(file_list)[0])\n",
    "ii"
   ]
  },
  {
   "cell_type": "code",
   "execution_count": 23,
   "id": "2135d1a8-8d43-4c17-9454-0611fb77bdaf",
   "metadata": {},
   "outputs": [],
   "source": [
    "list_h11v04 = [data_func(i) for i in ii]"
   ]
  },
  {
   "cell_type": "code",
   "execution_count": 24,
   "id": "df692008-ed64-41f5-8670-fa88f3503bcb",
   "metadata": {},
   "outputs": [],
   "source": [
    "array_h11v04 = np.array(list_h11v04)"
   ]
  },
  {
   "cell_type": "code",
   "execution_count": 25,
   "id": "697456fe-8d80-4629-a0cc-b6fd29c446da",
   "metadata": {},
   "outputs": [
    {
     "data": {
      "text/plain": [
       "(23, 5, 1811, 2881)"
      ]
     },
     "execution_count": 25,
     "metadata": {},
     "output_type": "execute_result"
    }
   ],
   "source": [
    "np.shape(array_h11v04)"
   ]
  },
  {
   "cell_type": "code",
   "execution_count": 27,
   "id": "5bd692bb-1acd-4cb6-bc06-8c633d56b958",
   "metadata": {},
   "outputs": [],
   "source": [
    "samp1 = rxr.open_rasterio(file_list[0], masked = True, variable = desired_datasets).squeeze()\n",
    "samp2 = rxr.open_rasterio(file_list[10], masked = True, variable = desired_datasets).squeeze()\n",
    "\n",
    "samp1_reprojected = samp1.rio.reproject('EPSG:3175')\n",
    "samp2_reprojected = samp2.rio.reproject('EPSG:3175')\n",
    "\n",
    "lat_1 = samp1_reprojected['y']\n",
    "lat_2 = samp2_reprojected['y']\n",
    "lon_1 = samp1_reprojected['x']\n",
    "lon_2 = samp2_reprojected['x']"
   ]
  },
  {
   "cell_type": "code",
   "execution_count": 28,
   "id": "f1df9202-513d-4771-911a-896675bae2ea",
   "metadata": {},
   "outputs": [
    {
     "name": "stdout",
     "output_type": "stream",
     "text": [
      "True\n",
      "True\n",
      "1811\n",
      "2881\n"
     ]
    }
   ],
   "source": [
    "print(np.array_equal(lat_1, lat_2))\n",
    "print(np.array_equal(lon_1, lon_2))\n",
    "\n",
    "print(len(lat_1))\n",
    "print(len(lon_1))"
   ]
  },
  {
   "cell_type": "code",
   "execution_count": 30,
   "id": "20ac3de8-da13-46e2-8a86-3b46a6e8221c",
   "metadata": {},
   "outputs": [],
   "source": [
    "lats = np.array(lat_1)\n",
    "lons = np.array(lon_1)\n",
    "modis_h11v04 = array_h11v04"
   ]
  },
  {
   "cell_type": "code",
   "execution_count": 31,
   "id": "1941f3f5-4c1e-432d-9620-7114fc394d57",
   "metadata": {},
   "outputs": [],
   "source": [
    "filehandler = open('../../data/intermediate/MODIS/lats_h11v04.pickle', 'wb')\n",
    "pickle.dump(lats, filehandler)\n",
    "filehandler.close()\n",
    "\n",
    "filehandler = open('../../data/intermediate/MODIS/lons_h11v04.pickle', 'wb')\n",
    "pickle.dump(lons, filehandler)\n",
    "filehandler.close()\n",
    "\n",
    "filehandler = open('../../data/intermediate/MODIS/modis_h11v04.pickle', 'wb')\n",
    "pickle.dump(modis_h11v04, filehandler)\n",
    "filehandler.close()"
   ]
  },
  {
   "cell_type": "markdown",
   "id": "090391d7-4546-4498-89ca-6c8bd4380fc6",
   "metadata": {},
   "source": [
    "## Cell 4: h11v05"
   ]
  },
  {
   "cell_type": "code",
   "execution_count": 32,
   "id": "cbe9d48b-86dc-4a73-8a25-161c2775fbe1",
   "metadata": {},
   "outputs": [
    {
     "data": {
      "text/plain": [
       "array([ 0,  1,  2,  3,  4,  5,  6,  7,  8,  9, 10, 11, 12, 13, 14, 15, 16,\n",
       "       17, 18, 19, 20, 21, 22])"
      ]
     },
     "execution_count": 32,
     "metadata": {},
     "output_type": "execute_result"
    }
   ],
   "source": [
    "data_dir = '/Volumes/FileBackup/SDM_bigdata/MODIS/h11v05'\n",
    "file_list = glob(os.path.join(data_dir, '*.hdf'))\n",
    "\n",
    "ii = np.arange(np.shape(file_list)[0])\n",
    "ii"
   ]
  },
  {
   "cell_type": "code",
   "execution_count": 33,
   "id": "486facfd-2527-4486-9ed0-5f0fb78d8c36",
   "metadata": {},
   "outputs": [],
   "source": [
    "list_h11v05 = [data_func(i) for i in ii]"
   ]
  },
  {
   "cell_type": "code",
   "execution_count": 34,
   "id": "7dd94c0a-db2c-4010-85b1-e3970ee121bc",
   "metadata": {},
   "outputs": [],
   "source": [
    "array_h11v05 = np.array(list_h11v05)"
   ]
  },
  {
   "cell_type": "code",
   "execution_count": 35,
   "id": "59819c2e-dd90-4e3a-b848-ce485252151f",
   "metadata": {},
   "outputs": [
    {
     "data": {
      "text/plain": [
       "(23, 5, 1657, 3052)"
      ]
     },
     "execution_count": 35,
     "metadata": {},
     "output_type": "execute_result"
    }
   ],
   "source": [
    "np.shape(array_h11v05)"
   ]
  },
  {
   "cell_type": "code",
   "execution_count": 36,
   "id": "9471c2e9-5a3a-41f2-b9fa-b9a0c5c89a20",
   "metadata": {},
   "outputs": [],
   "source": [
    "samp1 = rxr.open_rasterio(file_list[0], masked = True, variable = desired_datasets).squeeze()\n",
    "samp2 = rxr.open_rasterio(file_list[10], masked = True, variable = desired_datasets).squeeze()\n",
    "\n",
    "samp1_reprojected = samp1.rio.reproject('EPSG:3175')\n",
    "samp2_reprojected = samp2.rio.reproject('EPSG:3175')\n",
    "\n",
    "lat_1 = samp1_reprojected['y']\n",
    "lat_2 = samp2_reprojected['y']\n",
    "lon_1 = samp1_reprojected['x']\n",
    "lon_2 = samp2_reprojected['x']"
   ]
  },
  {
   "cell_type": "code",
   "execution_count": 38,
   "id": "97b1b2e3-db5b-426c-bd9a-2c1023a91fb3",
   "metadata": {},
   "outputs": [
    {
     "name": "stdout",
     "output_type": "stream",
     "text": [
      "True\n",
      "True\n",
      "1657\n",
      "3052\n"
     ]
    }
   ],
   "source": [
    "print(np.array_equal(lat_1, lat_2))\n",
    "print(np.array_equal(lon_1, lon_2))\n",
    "\n",
    "print(len(lat_1))\n",
    "print(len(lon_1))"
   ]
  },
  {
   "cell_type": "code",
   "execution_count": 39,
   "id": "cfed84d6-135e-4e17-b46a-4f71801f6aea",
   "metadata": {},
   "outputs": [],
   "source": [
    "lats = np.array(lat_1)\n",
    "lons = np.array(lon_1)\n",
    "modis_h11v05 = array_h11v05"
   ]
  },
  {
   "cell_type": "code",
   "execution_count": 40,
   "id": "53cf1103-dfa7-49d5-b027-b1915d302086",
   "metadata": {},
   "outputs": [],
   "source": [
    "filehandler = open('../../data/intermediate/MODIS/lats_h11v05.pickle', 'wb')\n",
    "pickle.dump(lats, filehandler)\n",
    "filehandler.close()\n",
    "\n",
    "filehandler = open('../../data/intermediate/MODIS/lons_h11v05.pickle', 'wb')\n",
    "pickle.dump(lons, filehandler)\n",
    "filehandler.close()\n",
    "\n",
    "filehandler = open('../../data/intermediate/MODIS/modis_h11v05.pickle', 'wb')\n",
    "pickle.dump(modis_h11v05, filehandler)\n",
    "filehandler.close()"
   ]
  },
  {
   "cell_type": "markdown",
   "id": "5018753a-d65f-4267-bcb6-087fb07713d6",
   "metadata": {},
   "source": [
    "## Cell 5: h12v04"
   ]
  },
  {
   "cell_type": "code",
   "execution_count": 4,
   "id": "9204a866-7f53-4877-b18d-ddb1968a43c2",
   "metadata": {},
   "outputs": [
    {
     "data": {
      "text/plain": [
       "array([ 0,  1,  2,  3,  4,  5,  6,  7,  8,  9, 10, 11, 12, 13, 14, 15, 16,\n",
       "       17, 18, 19, 20, 21, 22])"
      ]
     },
     "execution_count": 4,
     "metadata": {},
     "output_type": "execute_result"
    }
   ],
   "source": [
    "data_dir = '/Volumes/FileBackup/SDM_bigdata/MODIS/h12v04'\n",
    "file_list = glob(os.path.join(data_dir, '*.hdf'))\n",
    "\n",
    "ii = np.arange(np.shape(file_list)[0])\n",
    "ii"
   ]
  },
  {
   "cell_type": "code",
   "execution_count": 5,
   "id": "7f2e8ef8-431d-4314-ac5c-2d8a3baa072e",
   "metadata": {},
   "outputs": [],
   "source": [
    "list_h12v04 = [data_func(i) for i in ii]"
   ]
  },
  {
   "cell_type": "code",
   "execution_count": 6,
   "id": "891d6a02-46d0-4b80-8128-d5e541e54e37",
   "metadata": {},
   "outputs": [],
   "source": [
    "array_h12v04 = np.array(list_h12v04)"
   ]
  },
  {
   "cell_type": "code",
   "execution_count": 7,
   "id": "cc71522e-e532-4f2d-9c2b-ba2f391ff179",
   "metadata": {},
   "outputs": [
    {
     "data": {
      "text/plain": [
       "(23, 5, 1582, 3109)"
      ]
     },
     "execution_count": 7,
     "metadata": {},
     "output_type": "execute_result"
    }
   ],
   "source": [
    "np.shape(array_h12v04)"
   ]
  },
  {
   "cell_type": "code",
   "execution_count": 8,
   "id": "9da964c7-0be1-46d1-9e89-4a31dc8efa20",
   "metadata": {},
   "outputs": [],
   "source": [
    "samp1 = rxr.open_rasterio(file_list[0], masked = True, variable = desired_datasets).squeeze()\n",
    "samp2 = rxr.open_rasterio(file_list[10], masked = True, variable = desired_datasets).squeeze()\n",
    "\n",
    "samp1_reprojected = samp1.rio.reproject('EPSG:3175')\n",
    "samp2_reprojected = samp2.rio.reproject('EPSG:3175')\n",
    "\n",
    "lat_1 = samp1_reprojected['y']\n",
    "lat_2 = samp2_reprojected['y']\n",
    "lon_1 = samp1_reprojected['x']\n",
    "lon_2 = samp2_reprojected['x']"
   ]
  },
  {
   "cell_type": "code",
   "execution_count": 9,
   "id": "a5f3bc04-9885-4d07-ad5f-e1b102508141",
   "metadata": {},
   "outputs": [
    {
     "name": "stdout",
     "output_type": "stream",
     "text": [
      "True\n",
      "True\n",
      "1582\n",
      "3109\n"
     ]
    }
   ],
   "source": [
    "print(np.array_equal(lat_1, lat_2))\n",
    "print(np.array_equal(lon_1, lon_2))\n",
    "\n",
    "print(len(lat_1))\n",
    "print(len(lon_1))"
   ]
  },
  {
   "cell_type": "code",
   "execution_count": 10,
   "id": "7738eaf0-e818-4221-b8da-e6ea219d5a8e",
   "metadata": {},
   "outputs": [],
   "source": [
    "lats = np.array(lat_1)\n",
    "lons = np.array(lon_1)\n",
    "modis_h12v04 = array_h12v04"
   ]
  },
  {
   "cell_type": "code",
   "execution_count": 11,
   "id": "50d24379-97f3-40e7-8018-107261daca3c",
   "metadata": {},
   "outputs": [],
   "source": [
    "filehandler = open('../../data/intermediate/MODIS/lats_h12v04.pickle', 'wb')\n",
    "pickle.dump(lats, filehandler)\n",
    "filehandler.close()\n",
    "\n",
    "filehandler = open('../../data/intermediate/MODIS/lons_h12v04.pickle', 'wb')\n",
    "pickle.dump(lons, filehandler)\n",
    "filehandler.close()\n",
    "\n",
    "filehandler = open('../../data/intermediate/MODIS/modis_h12v04.pickle', 'wb')\n",
    "pickle.dump(modis_h12v04, filehandler)\n",
    "filehandler.close()"
   ]
  },
  {
   "cell_type": "code",
   "execution_count": null,
   "id": "7ceaac8f-8094-4b50-b591-15213065f40c",
   "metadata": {},
   "outputs": [],
   "source": []
  }
 ],
 "metadata": {
  "kernelspec": {
   "display_name": "Python [conda env:MLenv]",
   "language": "python",
   "name": "conda-env-MLenv-py"
  },
  "language_info": {
   "codemirror_mode": {
    "name": "ipython",
    "version": 3
   },
   "file_extension": ".py",
   "mimetype": "text/x-python",
   "name": "python",
   "nbconvert_exporter": "python",
   "pygments_lexer": "ipython3",
   "version": "3.9.13"
  }
 },
 "nbformat": 4,
 "nbformat_minor": 5
}
